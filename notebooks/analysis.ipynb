{
 "cells": [
  {
   "cell_type": "markdown",
   "metadata": {},
   "source": [
    "# FOMC Sentiment Analysis and Market Impact\n",
    "\n",
    "This notebook analyzes the relationship between Federal Open Market Committee (FOMC) communication tone and U.S. financial market movements.\n",
    "\n",
    "## Research Question\n",
    "How does the hawkish or dovish tone of FOMC communications affect major U.S. financial markets?"
   ]
  },
  {
   "cell_type": "code",
   "execution_count": null,
   "metadata": {},
   "outputs": [],
   "source": [
    "import pandas as pd\n",
    "import numpy as np\n",
    "import matplotlib.pyplot as plt\n",
    "import seaborn as sns\n",
    "from datetime import datetime\n",
    "import warnings\n",
    "warnings.filterwarnings('ignore')\n",
    "\n",
    "# Set style\n",
    "sns.set_style('whitegrid')\n",
    "plt.rcParams['figure.figsize'] = (12, 6)\n",
    "\n",
    "# Add src to path\n",
    "import sys\n",
    "import os\n",
    "sys.path.insert(0, os.path.join(os.getcwd(), '..', 'src'))"
   ]
  },
  {
   "cell_type": "markdown",
   "metadata": {},
   "source": [
    "## 1. Load Data"
   ]
  },
  {
   "cell_type": "code",
   "execution_count": null,
   "metadata": {},
   "outputs": [],
   "source": [
    "# Load sentiment data\n",
    "sentiment_df = pd.read_csv('../data/processed/fomc_sentiment.csv')\n",
    "sentiment_df['date'] = pd.to_datetime(sentiment_df['date'])\n",
    "\n",
    "print(f\"Loaded {len(sentiment_df)} FOMC documents\")\n",
    "print(f\"Date range: {sentiment_df['date'].min()} to {sentiment_df['date'].max()}\")\n",
    "sentiment_df.head()"
   ]
  },
  {
   "cell_type": "markdown",
   "metadata": {},
   "source": [
    "## 2. Sentiment Analysis Overview"
   ]
  },
  {
   "cell_type": "code",
   "execution_count": null,
   "metadata": {},
   "outputs": [],
   "source": [
    "# Sentiment distribution\n",
    "fig, axes = plt.subplots(1, 2, figsize=(14, 5))\n",
    "\n",
    "# Tone distribution\n",
    "sentiment_df['tone'].value_counts().plot(kind='bar', ax=axes[0], color=['#d62728', '#1f77b4', '#7f7f7f'])\n",
    "axes[0].set_title('FOMC Communication Tone Distribution', fontsize=14, fontweight='bold')\n",
    "axes[0].set_xlabel('Tone')\n",
    "axes[0].set_ylabel('Count')\n",
    "axes[0].tick_params(axis='x', rotation=0)\n",
    "\n",
    "# Sentiment score distribution\n",
    "axes[1].hist(sentiment_df['weighted_sentiment'], bins=20, edgecolor='black', alpha=0.7)\n",
    "axes[1].axvline(0, color='red', linestyle='--', linewidth=2, label='Neutral')\n",
    "axes[1].set_title('Weighted Sentiment Score Distribution', fontsize=14, fontweight='bold')\n",
    "axes[1].set_xlabel('Weighted Sentiment (Hawkish > 0, Dovish < 0)')\n",
    "axes[1].set_ylabel('Frequency')\n",
    "axes[1].legend()\n",
    "\n",
    "plt.tight_layout()\n",
    "plt.show()\n",
    "\n",
    "print(f\"\\nSentiment Statistics:\")\n",
    "print(f\"Mean sentiment: {sentiment_df['weighted_sentiment'].mean():.3f}\")\n",
    "print(f\"Std deviation: {sentiment_df['weighted_sentiment'].std():.3f}\")\n",
    "print(f\"Min: {sentiment_df['weighted_sentiment'].min():.3f}\")\n",
    "print(f\"Max: {sentiment_df['weighted_sentiment'].max():.3f}\")"
   ]
  },
  {
   "cell_type": "markdown",
   "metadata": {},
   "source": [
    "## 3. Sentiment Over Time"
   ]
  },
  {
   "cell_type": "code",
   "execution_count": null,
   "metadata": {},
   "outputs": [],
   "source": [
    "# Plot sentiment over time\n",
    "plt.figure(figsize=(14, 6))\n",
    "\n",
    "# Color points by tone\n",
    "colors = {'hawkish': '#d62728', 'dovish': '#1f77b4', 'neutral': '#7f7f7f'}\n",
    "for tone in sentiment_df['tone'].unique():\n",
    "    mask = sentiment_df['tone'] == tone\n",
    "    plt.scatter(sentiment_df[mask]['date'], \n",
    "               sentiment_df[mask]['weighted_sentiment'],\n",
    "               c=colors.get(tone, 'gray'), \n",
    "               label=tone.capitalize(), \n",
    "               s=100, \n",
    "               alpha=0.6)\n",
    "\n",
    "# Add trend line\n",
    "z = np.polyfit(sentiment_df['date'].astype(np.int64) // 10**9, \n",
    "               sentiment_df['weighted_sentiment'], 1)\n",
    "p = np.poly1d(z)\n",
    "plt.plot(sentiment_df['date'], \n",
    "         p(sentiment_df['date'].astype(np.int64) // 10**9), \n",
    "         \"--\", color='black', linewidth=2, label='Trend')\n",
    "\n",
    "plt.axhline(y=0, color='gray', linestyle='-', linewidth=1, alpha=0.5)\n",
    "plt.xlabel('Date', fontsize=12)\n",
    "plt.ylabel('Weighted Sentiment Score', fontsize=12)\n",
    "plt.title('FOMC Communication Sentiment Over Time', fontsize=14, fontweight='bold')\n",
    "plt.legend(loc='best')\n",
    "plt.grid(alpha=0.3)\n",
    "plt.tight_layout()\n",
    "plt.show()"
   ]
  },
  {
   "cell_type": "markdown",
   "metadata": {},
   "source": [
    "## 4. Sentiment by Document Type"
   ]
  },
  {
   "cell_type": "code",
   "execution_count": null,
   "metadata": {},
   "outputs": [],
   "source": [
    "# Box plot by document type\n",
    "plt.figure(figsize=(10, 6))\n",
    "sentiment_df.boxplot(column='weighted_sentiment', by='type', ax=plt.gca())\n",
    "plt.suptitle('')\n",
    "plt.title('Sentiment Distribution by Document Type', fontsize=14, fontweight='bold')\n",
    "plt.xlabel('Document Type')\n",
    "plt.ylabel('Weighted Sentiment Score')\n",
    "plt.axhline(y=0, color='red', linestyle='--', linewidth=1)\n",
    "plt.tight_layout()\n",
    "plt.show()\n",
    "\n",
    "print(\"\\nAverage Sentiment by Document Type:\")\n",
    "print(sentiment_df.groupby('type')['weighted_sentiment'].agg(['mean', 'std', 'count']))"
   ]
  },
  {
   "cell_type": "markdown",
   "metadata": {},
   "source": [
    "## 5. Load Correlation Results"
   ]
  },
  {
   "cell_type": "code",
   "execution_count": null,
   "metadata": {},
   "outputs": [],
   "source": [
    "# Load correlation results if available\n",
    "try:\n",
    "    corr_results = pd.read_csv('../results/correlation_results.csv')\n",
    "    summary_stats = pd.read_csv('../results/summary_statistics.csv')\n",
    "    \n",
    "    print(\"Summary Statistics:\")\n",
    "    print(summary_stats.T)\n",
    "    \n",
    "    print(\"\\n\" + \"=\"*80)\n",
    "    print(\"\\nCorrelation Results Preview:\")\n",
    "    print(corr_results.head(10))\n",
    "except FileNotFoundError:\n",
    "    print(\"Correlation results not found. Run the main analysis pipeline first.\")\n",
    "    print(\"Command: python ../src/main.py\")"
   ]
  },
  {
   "cell_type": "markdown",
   "metadata": {},
   "source": [
    "## 6. Visualize Correlations"
   ]
  },
  {
   "cell_type": "code",
   "execution_count": null,
   "metadata": {},
   "outputs": [],
   "source": [
    "try:\n",
    "    # Filter for 5-day window\n",
    "    corr_5d = corr_results[corr_results['window_days'] == 5].copy()\n",
    "    \n",
    "    # Sort by correlation strength\n",
    "    corr_5d = corr_5d.sort_values('post_pearson_r', ascending=True)\n",
    "    \n",
    "    # Plot\n",
    "    fig, ax = plt.subplots(figsize=(12, 8))\n",
    "    \n",
    "    colors = ['#d62728' if x > 0 else '#1f77b4' for x in corr_5d['post_pearson_r']]\n",
    "    bars = ax.barh(corr_5d['asset'], corr_5d['post_pearson_r'], color=colors, alpha=0.7)\n",
    "    \n",
    "    ax.axvline(x=0, color='black', linewidth=1)\n",
    "    ax.set_xlabel('Pearson Correlation Coefficient', fontsize=12)\n",
    "    ax.set_ylabel('Asset', fontsize=12)\n",
    "    ax.set_title('Correlation: FOMC Sentiment vs. 5-Day Post-Event Returns', \n",
    "                 fontsize=14, fontweight='bold')\n",
    "    \n",
    "    # Add significance markers\n",
    "    for i, (idx, row) in enumerate(corr_5d.iterrows()):\n",
    "        if row['post_pearson_p'] < 0.05:\n",
    "            ax.text(row['post_pearson_r'], i, ' *', \n",
    "                   va='center', fontsize=16, fontweight='bold')\n",
    "    \n",
    "    ax.text(0.02, 0.98, '* p < 0.05', transform=ax.transAxes, \n",
    "           va='top', fontsize=10, bbox=dict(boxstyle='round', facecolor='wheat', alpha=0.5))\n",
    "    \n",
    "    plt.tight_layout()\n",
    "    plt.show()\n",
    "    \n",
    "    print(\"\\nSignificant Correlations (p < 0.05):\")\n",
    "    sig_corr = corr_5d[corr_5d['post_pearson_p'] < 0.05]\n",
    "    print(sig_corr[['asset', 'post_pearson_r', 'post_pearson_p', 'n_observations']])\n",
    "    \n",
    "except:\n",
    "    print(\"Unable to visualize correlations. Ensure correlation analysis has been run.\")"
   ]
  },
  {
   "cell_type": "markdown",
   "metadata": {},
   "source": [
    "## 7. Key Findings and Interpretation"
   ]
  },
  {
   "cell_type": "code",
   "execution_count": null,
   "metadata": {},
   "outputs": [],
   "source": [
    "print(\"=\"*80)\n",
    "print(\"KEY FINDINGS\")\n",
    "print(\"=\"*80)\n",
    "\n",
    "print(\"\\n1. FOMC Communication Tone:\")\n",
    "print(f\"   - Analysis covers {len(sentiment_df)} FOMC documents since October 2020\")\n",
    "print(f\"   - Document types: {sentiment_df['type'].unique().tolist()}\")\n",
    "tone_counts = sentiment_df['tone'].value_counts()\n",
    "for tone, count in tone_counts.items():\n",
    "    print(f\"   - {tone.capitalize()}: {count} documents ({count/len(sentiment_df)*100:.1f}%)\")\n",
    "\n",
    "print(\"\\n2. Sentiment Methodology:\")\n",
    "print(\"   - Keyword-based analysis using hawkish/dovish dictionaries\")\n",
    "print(\"   - Weighted by document type (Statements: 1.5x, Minutes: 1.2x, Speeches: 1.0x)\")\n",
    "print(\"   - Positive scores indicate hawkish tone, negative scores indicate dovish tone\")\n",
    "\n",
    "print(\"\\n3. Market Impact Analysis:\")\n",
    "print(\"   - Event-window methodology: analyzing returns before, during, and after FOMC events\")\n",
    "print(\"   - Multiple time windows: 1-day, 2-day, and 5-day\")\n",
    "print(\"   - Assets tracked: Stock indices, Treasury yields, Dollar index, Volatility, Commodities\")\n",
    "\n",
    "try:\n",
    "    print(\"\\n4. Correlation Results:\")\n",
    "    sig_corr = corr_5d[corr_5d['post_pearson_p'] < 0.05]\n",
    "    if len(sig_corr) > 0:\n",
    "        print(f\"   - {len(sig_corr)} assets show statistically significant correlations (p < 0.05)\")\n",
    "        strongest = sig_corr.iloc[sig_corr['post_pearson_r'].abs().argmax()]\n",
    "        print(f\"   - Strongest correlation: {strongest['asset']} (r = {strongest['post_pearson_r']:.3f})\")\n",
    "    else:\n",
    "        print(\"   - No statistically significant correlations found at p < 0.05 level\")\n",
    "except:\n",
    "    print(\"   - Run correlation analysis to see detailed results\")\n",
    "\n",
    "print(\"\\n5. Interpretation:\")\n",
    "print(\"   - Hawkish communications (positive sentiment) typically signal tighter monetary policy\")\n",
    "print(\"   - Dovish communications (negative sentiment) typically signal looser monetary policy\")\n",
    "print(\"   - Market reactions may vary based on expectations and economic context\")\n",
    "print(\"   - Significant correlations suggest FOMC tone has predictive power for asset returns\")\n",
    "\n",
    "print(\"\\n\" + \"=\"*80)"
   ]
  },
  {
   "cell_type": "markdown",
   "metadata": {},
   "source": [
    "## 8. Export Results"
   ]
  },
  {
   "cell_type": "code",
   "execution_count": null,
   "metadata": {},
   "outputs": [],
   "source": [
    "# Create a summary report\n",
    "report = f\"\"\"\n",
    "FOMC SENTIMENT ANALYSIS - SUMMARY REPORT\n",
    "Generated: {datetime.now().strftime('%Y-%m-%d %H:%M:%S')}\n",
    "\n",
    "DATASET OVERVIEW:\n",
    "- Total Documents: {len(sentiment_df)}\n",
    "- Date Range: {sentiment_df['date'].min()} to {sentiment_df['date'].max()}\n",
    "- Hawkish: {len(sentiment_df[sentiment_df['tone'] == 'hawkish'])}\n",
    "- Dovish: {len(sentiment_df[sentiment_df['tone'] == 'dovish'])}\n",
    "- Neutral: {len(sentiment_df[sentiment_df['tone'] == 'neutral'])}\n",
    "\n",
    "SENTIMENT STATISTICS:\n",
    "- Mean Weighted Sentiment: {sentiment_df['weighted_sentiment'].mean():.3f}\n",
    "- Standard Deviation: {sentiment_df['weighted_sentiment'].std():.3f}\n",
    "- Range: [{sentiment_df['weighted_sentiment'].min():.3f}, {sentiment_df['weighted_sentiment'].max():.3f}]\n",
    "\n",
    "METHODOLOGY:\n",
    "This analysis uses textual analysis to quantify hawkish/dovish tone in FOMC communications\n",
    "and tests whether these tone shifts correlate with U.S. financial market movements.\n",
    "\"\"\"\n",
    "\n",
    "print(report)\n",
    "\n",
    "# Save report\n",
    "with open('../results/analysis_report.txt', 'w') as f:\n",
    "    f.write(report)\n",
    "    \n",
    "print(\"\\nReport saved to: ../results/analysis_report.txt\")"
   ]
  }
 ],
 "metadata": {
  "kernelspec": {
   "display_name": "Python 3",
   "language": "python",
   "name": "python3"
  },
  "language_info": {
   "codemirror_mode": {
    "name": "ipython",
    "version": 3
   },
   "file_extension": ".py",
   "mimetype": "text/x-python",
   "name": "python",
   "nbconvert_exporter": "python",
   "pygments_lexer": "ipython3",
   "version": "3.8.0"
  }
 },
 "nbformat": 4,
 "nbformat_minor": 4
}
